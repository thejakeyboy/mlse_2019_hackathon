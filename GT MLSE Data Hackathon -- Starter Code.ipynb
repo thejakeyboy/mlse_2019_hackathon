{
 "cells": [
  {
   "cell_type": "markdown",
   "metadata": {},
   "source": [
    "# Some quick analysis of ride + weather data\n",
    "\n",
    "In what follows, let us take a brief look at the data and see what we can find\n",
    "\n",
    "First we load the typical libraries"
   ]
  },
  {
   "cell_type": "code",
   "execution_count": 1,
   "metadata": {
    "collapsed": false,
    "scrolled": true
   },
   "outputs": [
    {
     "name": "stdout",
     "output_type": "stream",
     "text": [
      "Populating the interactive namespace from numpy and matplotlib\n"
     ]
    }
   ],
   "source": [
    "import pandas as pd\n",
    "import numpy as np\n",
    "from sklearn import linear_model\n",
    "%pylab inline"
   ]
  },
  {
   "cell_type": "markdown",
   "metadata": {},
   "source": [
    "## The basic datasets available to us"
   ]
  },
  {
   "cell_type": "code",
   "execution_count": 2,
   "metadata": {
    "collapsed": true
   },
   "outputs": [],
   "source": [
    "ride_data = pd.read_csv('relay_ride_data_cleaned.csv')\n",
    "weather_data = pd.read_csv('atlanta_weather_data_clean.csv')\n",
    "crime_data = pd.read_csv('atlanta_crime_occurance_data_cleaned.csv')"
   ]
  },
  {
   "cell_type": "markdown",
   "metadata": {},
   "source": [
    "What columns occur in this dataset? "
   ]
  },
  {
   "cell_type": "code",
   "execution_count": 3,
   "metadata": {
    "collapsed": false
   },
   "outputs": [
    {
     "data": {
      "text/plain": [
       "Index(['user_id', 'start_hub', 'start_latitude', 'start_longitude', 'end_hub',\n",
       "       'end_latitude', 'end_longitude', 'total_distance', 'total_cost',\n",
       "       'start_time_iso', 'end_time_iso'],\n",
       "      dtype='object')"
      ]
     },
     "execution_count": 3,
     "metadata": {},
     "output_type": "execute_result"
    }
   ],
   "source": [
    "ride_data.columns"
   ]
  },
  {
   "cell_type": "code",
   "execution_count": 4,
   "metadata": {
    "collapsed": false
   },
   "outputs": [
    {
     "data": {
      "text/html": [
       "<div>\n",
       "<style scoped>\n",
       "    .dataframe tbody tr th:only-of-type {\n",
       "        vertical-align: middle;\n",
       "    }\n",
       "\n",
       "    .dataframe tbody tr th {\n",
       "        vertical-align: top;\n",
       "    }\n",
       "\n",
       "    .dataframe thead th {\n",
       "        text-align: right;\n",
       "    }\n",
       "</style>\n",
       "<table border=\"1\" class=\"dataframe\">\n",
       "  <thead>\n",
       "    <tr style=\"text-align: right;\">\n",
       "      <th></th>\n",
       "      <th>user_id</th>\n",
       "      <th>start_hub</th>\n",
       "      <th>start_latitude</th>\n",
       "      <th>start_longitude</th>\n",
       "      <th>end_hub</th>\n",
       "      <th>end_latitude</th>\n",
       "      <th>end_longitude</th>\n",
       "      <th>total_distance</th>\n",
       "      <th>total_cost</th>\n",
       "      <th>start_time_iso</th>\n",
       "      <th>end_time_iso</th>\n",
       "    </tr>\n",
       "  </thead>\n",
       "  <tbody>\n",
       "    <tr>\n",
       "      <th>0</th>\n",
       "      <td>503796</td>\n",
       "      <td>ATLANTIC STATION</td>\n",
       "      <td>33.79151167</td>\n",
       "      <td>-84.39623167</td>\n",
       "      <td>ATLANTIC STATION</td>\n",
       "      <td>33.79153167</td>\n",
       "      <td>-84.39630333</td>\n",
       "      <td>0.08</td>\n",
       "      <td>0.75</td>\n",
       "      <td>2017-09-14 00:08:00</td>\n",
       "      <td>2017-09-14 00:13:00</td>\n",
       "    </tr>\n",
       "    <tr>\n",
       "      <th>1</th>\n",
       "      <td>503796</td>\n",
       "      <td>ATLANTIC STATION</td>\n",
       "      <td>33.791545</td>\n",
       "      <td>-84.39639667</td>\n",
       "      <td>ATLANTIC STATION</td>\n",
       "      <td>33.79151667</td>\n",
       "      <td>-84.39632667</td>\n",
       "      <td>0.05</td>\n",
       "      <td>0.45</td>\n",
       "      <td>2017-09-14 00:13:00</td>\n",
       "      <td>2017-09-14 00:16:00</td>\n",
       "    </tr>\n",
       "    <tr>\n",
       "      <th>2</th>\n",
       "      <td>528737</td>\n",
       "      <td>AUC - WOODRUFF LIBRARY</td>\n",
       "      <td>33.75217333</td>\n",
       "      <td>-84.41330833</td>\n",
       "      <td>AUC - WOODRUFF LIBRARY</td>\n",
       "      <td>33.75205</td>\n",
       "      <td>-84.413325</td>\n",
       "      <td>1.53</td>\n",
       "      <td>0.00</td>\n",
       "      <td>2017-09-14 00:18:00</td>\n",
       "      <td>2017-09-14 00:44:00</td>\n",
       "    </tr>\n",
       "    <tr>\n",
       "      <th>3</th>\n",
       "      <td>529805</td>\n",
       "      <td>AUC - WOODRUFF LIBRARY</td>\n",
       "      <td>33.75196167</td>\n",
       "      <td>-84.413245</td>\n",
       "      <td>AUC - WOODRUFF LIBRARY</td>\n",
       "      <td>33.752025</td>\n",
       "      <td>-84.41331</td>\n",
       "      <td>1.08</td>\n",
       "      <td>0.00</td>\n",
       "      <td>2017-09-14 00:18:00</td>\n",
       "      <td>2017-09-14 00:42:00</td>\n",
       "    </tr>\n",
       "    <tr>\n",
       "      <th>4</th>\n",
       "      <td>528758</td>\n",
       "      <td>AUC - WOODRUFF LIBRARY</td>\n",
       "      <td>33.751875</td>\n",
       "      <td>-84.41334</td>\n",
       "      <td>AUC - WOODRUFF LIBRARY</td>\n",
       "      <td>33.75204167</td>\n",
       "      <td>-84.413315</td>\n",
       "      <td>1.70</td>\n",
       "      <td>0.00</td>\n",
       "      <td>2017-09-14 00:18:00</td>\n",
       "      <td>2017-09-14 00:45:00</td>\n",
       "    </tr>\n",
       "  </tbody>\n",
       "</table>\n",
       "</div>"
      ],
      "text/plain": [
       "   user_id               start_hub start_latitude start_longitude  \\\n",
       "0   503796        ATLANTIC STATION    33.79151167    -84.39623167   \n",
       "1   503796        ATLANTIC STATION      33.791545    -84.39639667   \n",
       "2   528737  AUC - WOODRUFF LIBRARY    33.75217333    -84.41330833   \n",
       "3   529805  AUC - WOODRUFF LIBRARY    33.75196167      -84.413245   \n",
       "4   528758  AUC - WOODRUFF LIBRARY      33.751875       -84.41334   \n",
       "\n",
       "                  end_hub end_latitude end_longitude  total_distance  \\\n",
       "0        ATLANTIC STATION  33.79153167  -84.39630333            0.08   \n",
       "1        ATLANTIC STATION  33.79151667  -84.39632667            0.05   \n",
       "2  AUC - WOODRUFF LIBRARY     33.75205    -84.413325            1.53   \n",
       "3  AUC - WOODRUFF LIBRARY    33.752025     -84.41331            1.08   \n",
       "4  AUC - WOODRUFF LIBRARY  33.75204167    -84.413315            1.70   \n",
       "\n",
       "   total_cost       start_time_iso         end_time_iso  \n",
       "0        0.75  2017-09-14 00:08:00  2017-09-14 00:13:00  \n",
       "1        0.45  2017-09-14 00:13:00  2017-09-14 00:16:00  \n",
       "2        0.00  2017-09-14 00:18:00  2017-09-14 00:44:00  \n",
       "3        0.00  2017-09-14 00:18:00  2017-09-14 00:42:00  \n",
       "4        0.00  2017-09-14 00:18:00  2017-09-14 00:45:00  "
      ]
     },
     "execution_count": 4,
     "metadata": {},
     "output_type": "execute_result"
    }
   ],
   "source": [
    "ride_data.head()"
   ]
  },
  {
   "cell_type": "markdown",
   "metadata": {},
   "source": [
    "Let us add some datetime columns to the dataframe so this is easier to analyze"
   ]
  },
  {
   "cell_type": "code",
   "execution_count": 5,
   "metadata": {
    "collapsed": true
   },
   "outputs": [],
   "source": [
    "ride_data['start_time_dt'] = pd.to_datetime(ride_data.start_time_iso)\n",
    "ride_data['end_time_dt'] = pd.to_datetime(ride_data.end_time_iso)\n"
   ]
  },
  {
   "cell_type": "markdown",
   "metadata": {},
   "source": [
    "### How many rides occur on each weekday?"
   ]
  },
  {
   "cell_type": "code",
   "execution_count": 6,
   "metadata": {
    "collapsed": false
   },
   "outputs": [
    {
     "data": {
      "text/plain": [
       "<matplotlib.axes._subplots.AxesSubplot at 0x11c3ef240>"
      ]
     },
     "execution_count": 6,
     "metadata": {},
     "output_type": "execute_result"
    },
    {
     "data": {
      "image/png": "[encoded data removed]",
      "text/plain": [
       "<matplotlib.figure.Figure at 0x11c3cb940>"
      ]
     },
     "metadata": {},
     "output_type": "display_data"
    }
   ],
   "source": [
    "ride_data['start_time_weekday'] = ride_data.start_time_dt.dt.weekday_name\n",
    "rides_per_weekday = ride_data.groupby('start_time_weekday')['user_id'].count()\n",
    "rides_per_weekday.plot(kind='bar')"
   ]
  },
  {
   "cell_type": "markdown",
   "metadata": {},
   "source": [
    "## Let us look at the weather data\n",
    "\n",
    "We will see what is in the weather data, and organize information about the weather by date/hour"
   ]
  },
  {
   "cell_type": "code",
   "execution_count": 7,
   "metadata": {
    "collapsed": false
   },
   "outputs": [
    {
     "data": {
      "text/plain": [
       "Index(['timestamp', 'timestamp_iso', 'temperature', 'temp_min_predicted',\n",
       "       'temp_max_predicted', 'pressure', 'humidity', 'wind_speed',\n",
       "       'rain_1h_predicted', 'cloud_cover', 'weather_description'],\n",
       "      dtype='object')"
      ]
     },
     "execution_count": 7,
     "metadata": {},
     "output_type": "execute_result"
    }
   ],
   "source": [
    "weather_data.columns"
   ]
  },
  {
   "cell_type": "code",
   "execution_count": 8,
   "metadata": {
    "collapsed": false
   },
   "outputs": [
    {
     "data": {
      "text/plain": [
       "<matplotlib.axes._subplots.AxesSubplot at 0x11c5587f0>"
      ]
     },
     "execution_count": 8,
     "metadata": {},
     "output_type": "execute_result"
    },
    {
     "data": {
      "image/png": "[encoded data removed]",
      "text/plain": [
       "<matplotlib.figure.Figure at 0x11c50bda0>"
      ]
     },
     "metadata": {},
     "output_type": "display_data"
    }
   ],
   "source": [
    "weather_data['datetime'] = pd.to_datetime(weather_data.timestamp,origin='unix',unit='s')\n",
    "weather_data['monthdayhour'] = weather_data.datetime.dt.strftime('%m/%d:%H')\n",
    "weather_data.weather_description.value_counts().plot(kind='bar')"
   ]
  },
  {
   "cell_type": "markdown",
   "metadata": {},
   "source": [
    "## Let's connect the day/hour to the weather\n",
    "\n",
    "I'm going to create a map to use later. This will connect the current day and hour to the weather conditions. In my weather data, sometimes I have multiple entries for a day/hour and I will group these and select the most likely."
   ]
  },
  {
   "cell_type": "code",
   "execution_count": 9,
   "metadata": {
    "collapsed": true
   },
   "outputs": [],
   "source": [
    "weather_desc_groups = weather_data.groupby('monthdayhour')['weather_description']\n",
    "weather_by_hour = weather_desc_groups.agg(lambda x:x.value_counts().index[0])\n"
   ]
  },
  {
   "cell_type": "markdown",
   "metadata": {},
   "source": [
    "## Grouping rides by the weekday/hour\n",
    "\n",
    "I want to see how many rides are occuring in each weekday and hour, so I can use these as features to train a regressor and see how much they contribute to the overall rider use.\n",
    "\n",
    "Let's also plot a histogram of how many rides occur per day."
   ]
  },
  {
   "cell_type": "code",
   "execution_count": 10,
   "metadata": {
    "collapsed": false
   },
   "outputs": [
    {
     "data": {
      "text/plain": [
       "<matplotlib.axes._subplots.AxesSubplot at 0x11cda0c50>"
      ]
     },
     "execution_count": 10,
     "metadata": {},
     "output_type": "execute_result"
    },
    {
     "data": {
      "image/png": "[encoded data removed]",
      "text/plain": [
       "<matplotlib.figure.Figure at 0x11cda8eb8>"
      ]
     },
     "metadata": {},
     "output_type": "display_data"
    }
   ],
   "source": [
    "# Get the datetime but drop the minutes and seconds\n",
    "ride_data['start_time_dt_hoursonly'] = pd.to_datetime(ride_data.start_time_iso).apply(\n",
    "    lambda date: date.replace(minute=0, second=0))\n",
    "\n",
    "# Now create the groups\n",
    "num_rides_per_hour = ride_data.groupby('start_time_dt_hoursonly')['user_id'].count().rename('num_rides')\n",
    "num_rides_per_hour.hist()"
   ]
  },
  {
   "cell_type": "markdown",
   "metadata": {},
   "source": [
    "## Making a dataset\n",
    "\n",
    "Now we have a count of how many rides occured in each day/hour. I want to see if we can learn this from features. Let's create a little dataset for this."
   ]
  },
  {
   "cell_type": "code",
   "execution_count": 11,
   "metadata": {
    "collapsed": false
   },
   "outputs": [
    {
     "data": {
      "text/html": [
       "<div>\n",
       "<style scoped>\n",
       "    .dataframe tbody tr th:only-of-type {\n",
       "        vertical-align: middle;\n",
       "    }\n",
       "\n",
       "    .dataframe tbody tr th {\n",
       "        vertical-align: top;\n",
       "    }\n",
       "\n",
       "    .dataframe thead th {\n",
       "        text-align: right;\n",
       "    }\n",
       "</style>\n",
       "<table border=\"1\" class=\"dataframe\">\n",
       "  <thead>\n",
       "    <tr style=\"text-align: right;\">\n",
       "      <th></th>\n",
       "      <th>start_time_dt_hoursonly</th>\n",
       "      <th>num_rides</th>\n",
       "      <th>log_num_rides</th>\n",
       "      <th>weekday</th>\n",
       "      <th>hour</th>\n",
       "      <th>monthdayhour</th>\n",
       "      <th>weather_condition</th>\n",
       "    </tr>\n",
       "  </thead>\n",
       "  <tbody>\n",
       "    <tr>\n",
       "      <th>0</th>\n",
       "      <td>2017-09-14 00:00:00</td>\n",
       "      <td>11</td>\n",
       "      <td>2.484907</td>\n",
       "      <td>Thursday</td>\n",
       "      <td>00:00</td>\n",
       "      <td>09/14:00</td>\n",
       "      <td>Clouds</td>\n",
       "    </tr>\n",
       "    <tr>\n",
       "      <th>1</th>\n",
       "      <td>2017-09-14 01:00:00</td>\n",
       "      <td>2</td>\n",
       "      <td>1.098612</td>\n",
       "      <td>Thursday</td>\n",
       "      <td>01:00</td>\n",
       "      <td>09/14:01</td>\n",
       "      <td>Clouds</td>\n",
       "    </tr>\n",
       "    <tr>\n",
       "      <th>2</th>\n",
       "      <td>2017-09-14 02:00:00</td>\n",
       "      <td>3</td>\n",
       "      <td>1.386294</td>\n",
       "      <td>Thursday</td>\n",
       "      <td>02:00</td>\n",
       "      <td>09/14:02</td>\n",
       "      <td>Clouds</td>\n",
       "    </tr>\n",
       "    <tr>\n",
       "      <th>3</th>\n",
       "      <td>2017-09-14 06:00:00</td>\n",
       "      <td>5</td>\n",
       "      <td>1.791759</td>\n",
       "      <td>Thursday</td>\n",
       "      <td>06:00</td>\n",
       "      <td>09/14:06</td>\n",
       "      <td>Mist</td>\n",
       "    </tr>\n",
       "    <tr>\n",
       "      <th>4</th>\n",
       "      <td>2017-09-14 07:00:00</td>\n",
       "      <td>19</td>\n",
       "      <td>2.995732</td>\n",
       "      <td>Thursday</td>\n",
       "      <td>07:00</td>\n",
       "      <td>09/14:07</td>\n",
       "      <td>Mist</td>\n",
       "    </tr>\n",
       "  </tbody>\n",
       "</table>\n",
       "</div>"
      ],
      "text/plain": [
       "  start_time_dt_hoursonly  num_rides  log_num_rides   weekday   hour  \\\n",
       "0     2017-09-14 00:00:00         11       2.484907  Thursday  00:00   \n",
       "1     2017-09-14 01:00:00          2       1.098612  Thursday  01:00   \n",
       "2     2017-09-14 02:00:00          3       1.386294  Thursday  02:00   \n",
       "3     2017-09-14 06:00:00          5       1.791759  Thursday  06:00   \n",
       "4     2017-09-14 07:00:00         19       2.995732  Thursday  07:00   \n",
       "\n",
       "  monthdayhour weather_condition  \n",
       "0     09/14:00            Clouds  \n",
       "1     09/14:01            Clouds  \n",
       "2     09/14:02            Clouds  \n",
       "3     09/14:06              Mist  \n",
       "4     09/14:07              Mist  "
      ]
     },
     "execution_count": 11,
     "metadata": {},
     "output_type": "execute_result"
    }
   ],
   "source": [
    "# This \n",
    "num_rides_per_hour = num_rides_per_hour.reset_index()\n",
    "num_rides_per_hour['log_num_rides'] = num_rides_per_hour.num_rides.map(lambda x: np.log(x + 1.))\n",
    "num_rides_per_hour['weekday'] = num_rides_per_hour.start_time_dt_hoursonly.dt.weekday_name\n",
    "num_rides_per_hour['hour'] = num_rides_per_hour.start_time_dt_hoursonly.dt.strftime(\"%H:00\")\n",
    "\n",
    "# Previously we constructed the day/hour weather map. We can now fill in weather conditions:\n",
    "num_rides_per_hour['monthdayhour'] = num_rides_per_hour.start_time_dt_hoursonly.dt.strftime('%m/%d:%H')\n",
    "num_rides_per_hour['weather_condition'] = num_rides_per_hour.monthdayhour.map(weather_by_hour)\n",
    "\n",
    "# Let's take a look at our new dataset\n",
    "num_rides_per_hour.head()"
   ]
  },
  {
   "cell_type": "code",
   "execution_count": 12,
   "metadata": {
    "collapsed": true
   },
   "outputs": [],
   "source": [
    "X = pd.get_dummies(num_rides_per_hour[['weekday','weather_condition','hour']])\n",
    "Y = num_rides_per_hour['log_num_rides']"
   ]
  },
  {
   "cell_type": "markdown",
   "metadata": {},
   "source": [
    "## Fitting the model, and extracting coefficients\n",
    "\n",
    "We now have an X and a Y. We want to see if we can estimate Y from X. Let's try a simple linear model."
   ]
  },
  {
   "cell_type": "code",
   "execution_count": 13,
   "metadata": {
    "collapsed": false
   },
   "outputs": [
    {
     "name": "stderr",
     "output_type": "stream",
     "text": [
      "/Users/jacob/anaconda/lib/python3.5/site-packages/scipy/linalg/basic.py:1018: RuntimeWarning: internal gelsd driver lwork query error, required iwork dimension not returned. This is likely the result of LAPACK bug 0038, fixed in LAPACK 3.2.2 (released July 21, 2010). Falling back to 'gelss' driver.\n",
      "  warnings.warn(mesg, RuntimeWarning)\n"
     ]
    },
    {
     "data": {
      "text/plain": [
       "LinearRegression(copy_X=True, fit_intercept=False, n_jobs=1, normalize=True)"
      ]
     },
     "execution_count": 13,
     "metadata": {},
     "output_type": "execute_result"
    }
   ],
   "source": [
    "regr = linear_model.LinearRegression(normalize=True,fit_intercept=False)\n",
    "regr.fit(X,Y)"
   ]
  },
  {
   "cell_type": "markdown",
   "metadata": {},
   "source": [
    "### Grouping the models coefficients\n",
    "\n",
    "We used three types of coefficients: day, hour, weathercondition. Let's look at each of these separately."
   ]
  },
  {
   "cell_type": "code",
   "execution_count": 14,
   "metadata": {
    "collapsed": false
   },
   "outputs": [],
   "source": [
    "coefficients = pd.Series(regr.coef_,index=X.columns)\n",
    "weather_coeffs = coefficients.loc[[ind for ind in coefficients.index if \"weather_\" in ind]]\n",
    "hour_coeffs = coefficients.loc[[ind for ind in coefficients.index if \"hour_\" in ind]]\n",
    "weekday_coeffs = coefficients.loc[[ind for ind in coefficients.index if \"weekday_\" in ind]]\n"
   ]
  },
  {
   "cell_type": "code",
   "execution_count": 15,
   "metadata": {
    "collapsed": false
   },
   "outputs": [
    {
     "data": {
      "text/plain": [
       "<matplotlib.axes._subplots.AxesSubplot at 0x1087d4198>"
      ]
     },
     "execution_count": 15,
     "metadata": {},
     "output_type": "execute_result"
    },
    {
     "data": {
      "image/png": "[encoded data removed]",
      "text/plain": [
       "<matplotlib.figure.Figure at 0x11cda8c18>"
      ]
     },
     "metadata": {},
     "output_type": "display_data"
    }
   ],
   "source": [
    "weather_coeffs.plot(kind='bar')"
   ]
  },
  {
   "cell_type": "code",
   "execution_count": 16,
   "metadata": {
    "collapsed": false
   },
   "outputs": [
    {
     "data": {
      "text/plain": [
       "<matplotlib.axes._subplots.AxesSubplot at 0x11d0a0c50>"
      ]
     },
     "execution_count": 16,
     "metadata": {},
     "output_type": "execute_result"
    },
    {
     "data": {
      "image/png": "[encoded data removed]",
      "text/plain": [
       "<matplotlib.figure.Figure at 0x11d070e10>"
      ]
     },
     "metadata": {},
     "output_type": "display_data"
    }
   ],
   "source": [
    "hour_coeffs.plot(kind='bar')"
   ]
  },
  {
   "cell_type": "code",
   "execution_count": 17,
   "metadata": {
    "collapsed": false
   },
   "outputs": [
    {
     "data": {
      "text/plain": [
       "<matplotlib.axes._subplots.AxesSubplot at 0x11b7ffdd8>"
      ]
     },
     "execution_count": 17,
     "metadata": {},
     "output_type": "execute_result"
    },
    {
     "data": {
      "image/png": "[encoded data removed]",
      "text/plain": [
       "<matplotlib.figure.Figure at 0x11d09bba8>"
      ]
     },
     "metadata": {},
     "output_type": "display_data"
    }
   ],
   "source": [
    "weekday_coeffs = (weekday_coeffs - 1.6)\n",
    "weekday_coeffs.plot(kind='bar')"
   ]
  }
 ],
 "metadata": {
  "anaconda-cloud": {},
  "kernelspec": {
   "display_name": "Python [default]",
   "language": "python",
   "name": "python3"
  },
  "language_info": {
   "codemirror_mode": {
    "name": "ipython",
    "version": 3
   },
   "file_extension": ".py",
   "mimetype": "text/x-python",
   "name": "python",
   "nbconvert_exporter": "python",
   "pygments_lexer": "ipython3",
   "version": "3.5.2"
  }
 },
 "nbformat": 4,
 "nbformat_minor": 1
}
